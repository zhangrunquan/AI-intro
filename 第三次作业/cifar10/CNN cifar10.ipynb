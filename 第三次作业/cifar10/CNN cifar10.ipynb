{
 "cells": [
  {
   "cell_type": "code",
   "execution_count": 1,
   "metadata": {},
   "outputs": [],
   "source": [
    "import numpy as np\n",
    "import tensorflow as tf"
   ]
  },
  {
   "cell_type": "code",
   "execution_count": 2,
   "metadata": {},
   "outputs": [],
   "source": [
    "def unpickle(file):\n",
    "    import pickle\n",
    "    with open(file, 'rb') as fo:\n",
    "        dict = pickle.load(fo, encoding='bytes')\n",
    "    return dict"
   ]
  },
  {
   "cell_type": "code",
   "execution_count": 3,
   "metadata": {},
   "outputs": [
    {
     "name": "stderr",
     "output_type": "stream",
     "text": [
      "Using TensorFlow backend.\n"
     ]
    },
    {
     "name": "stdout",
     "output_type": "stream",
     "text": [
      "train: 50000\n",
      "test : 10000\n",
      "train_image : (50000, 32, 32, 3)\n",
      "train_label : (50000, 1)\n",
      "test_image : (10000, 32, 32, 3)\n",
      "test_label : (10000, 1)\n"
     ]
    }
   ],
   "source": [
    "from keras.datasets import cifar10\n",
    "import numpy as np\n",
    "np.random.seed(10)\n",
    "# 导入数据集，如果没有就会自动下载\n",
    "(x_img_train,y_label_train),(x_img_test, y_label_test)=cifar10.load_data()\n",
    "print('train:',len(x_img_train))\n",
    "print('test :',len(x_img_test))\n",
    "print('train_image :',x_img_train.shape)\n",
    "print('train_label :',y_label_train.shape)\n",
    "print('test_image :',x_img_test.shape)\n",
    "print('test_label :',y_label_test.shape)\n"
   ]
  },
  {
   "cell_type": "code",
   "execution_count": 11,
   "metadata": {},
   "outputs": [
    {
     "name": "stdout",
     "output_type": "stream",
     "text": [
      "[59 62 63]\n",
      "[0.23137255 0.24313726 0.24705882]\n"
     ]
    }
   ],
   "source": [
    "print(x_img_train[0][0][0]) #（50000，32，32，3）\n",
    "x_img_train_normalize = x_img_train.astype('float32') / 255.0\n",
    "x_img_test_normalize = x_img_test.astype('float32') / 255.0\n",
    "print(x_img_train_normalize[0][0][0])"
   ]
  },
  {
   "cell_type": "code",
   "execution_count": 4,
   "metadata": {},
   "outputs": [],
   "source": [
    "from keras import Sequential\n",
    "model=Sequential()"
   ]
  },
  {
   "cell_type": "code",
   "execution_count": 5,
   "metadata": {},
   "outputs": [],
   "source": [
    "from keras.layers import Dense, Dropout, Flatten\n",
    "from keras.layers import Conv2D, MaxPooling2D\n",
    "from keras.optimizers import Adam\n",
    "import keras"
   ]
  },
  {
   "cell_type": "code",
   "execution_count": 6,
   "metadata": {},
   "outputs": [],
   "source": [
    "batch_size=30\n",
    "input_shape=(32,32,3)\n",
    "num_classes=10\n"
   ]
  },
  {
   "cell_type": "code",
   "execution_count": 7,
   "metadata": {},
   "outputs": [
    {
     "name": "stdout",
     "output_type": "stream",
     "text": [
      "WARNING:tensorflow:From C:\\ProgramData\\Anaconda3\\lib\\site-packages\\tensorflow\\python\\framework\\op_def_library.py:263: colocate_with (from tensorflow.python.framework.ops) is deprecated and will be removed in a future version.\n",
      "Instructions for updating:\n",
      "Colocations handled automatically by placer.\n"
     ]
    }
   ],
   "source": [
    "# model.add(Conv2D(32, kernel_size=(5, 5), strides=(1, 1),\n",
    "#                  activation='relu',\n",
    "#                  input_shape=input_shape))\n",
    "model.add(Conv2D(filters=32,kernel_size=(3,3),\n",
    "                 input_shape=(32, 32,3), \n",
    "                 activation='relu', \n",
    "                 padding='same'))\n",
    "model.add(MaxPooling2D(pool_size=(2, 2), strides=(2, 2)))\n",
    "model.add(Conv2D(64, (5, 5), activation='relu'))\n",
    "model.add(MaxPooling2D(pool_size=(2, 2)))\n",
    "model.add(Flatten())\n",
    "model.add(Dense(1000, activation='relu'))\n",
    "model.add(Dense(num_classes, activation='softmax'))\n",
    "model.compile(loss=keras.losses.categorical_crossentropy,\n",
    "              optimizer=keras.optimizers.SGD(lr=0.05),\n",
    "              metrics=['accuracy'])"
   ]
  },
  {
   "cell_type": "code",
   "execution_count": 8,
   "metadata": {},
   "outputs": [
    {
     "name": "stdout",
     "output_type": "stream",
     "text": [
      "(50000, 10)\n",
      "[[0. 0. 0. 0. 0. 0. 1. 0. 0. 0.]\n",
      " [0. 0. 0. 0. 0. 0. 0. 0. 0. 1.]\n",
      " [0. 0. 0. 0. 0. 0. 0. 0. 0. 1.]\n",
      " [0. 0. 0. 0. 1. 0. 0. 0. 0. 0.]\n",
      " [0. 1. 0. 0. 0. 0. 0. 0. 0. 0.]]\n"
     ]
    }
   ],
   "source": [
    "from keras.utils import np_utils\n",
    "y_label_train_OneHot = np_utils.to_categorical(y_label_train)\n",
    "y_label_test_OneHot = np_utils.to_categorical(y_label_test)\n",
    "print(y_label_train_OneHot.shape)\n",
    "print(y_label_train_OneHot[:5])\n"
   ]
  },
  {
   "cell_type": "code",
   "execution_count": 9,
   "metadata": {},
   "outputs": [
    {
     "name": "stdout",
     "output_type": "stream",
     "text": [
      "WARNING:tensorflow:From C:\\ProgramData\\Anaconda3\\lib\\site-packages\\tensorflow\\python\\ops\\math_ops.py:3066: to_int32 (from tensorflow.python.ops.math_ops) is deprecated and will be removed in a future version.\n",
      "Instructions for updating:\n",
      "Use tf.cast instead.\n",
      "Train on 50000 samples, validate on 10000 samples\n",
      "Epoch 1/5\n",
      "50000/50000 [==============================] - 13s 250us/step - loss: 14.5052 - acc: 0.1000 - val_loss: 14.5063 - val_acc: 0.1000\n",
      "Epoch 2/5\n",
      "50000/50000 [==============================] - 8s 150us/step - loss: 14.5063 - acc: 0.1000 - val_loss: 14.5063 - val_acc: 0.1000\n",
      "Epoch 3/5\n",
      "50000/50000 [==============================] - 7s 150us/step - loss: 14.5063 - acc: 0.1000 - val_loss: 14.5063 - val_acc: 0.1000\n",
      "Epoch 4/5\n",
      "50000/50000 [==============================] - 8s 151us/step - loss: 14.5063 - acc: 0.1000 - val_loss: 14.5063 - val_acc: 0.1000\n",
      "Epoch 5/5\n",
      "50000/50000 [==============================] - 7s 150us/step - loss: 14.5063 - acc: 0.1000 - val_loss: 14.5063 - val_acc: 0.1000\n"
     ]
    },
    {
     "data": {
      "text/plain": [
       "<keras.callbacks.History at 0x24eeb0ba5c0>"
      ]
     },
     "execution_count": 9,
     "metadata": {},
     "output_type": "execute_result"
    }
   ],
   "source": [
    "\n",
    "epochs=5\n",
    "model.fit(x_img_train, y_label_train_OneHot,\n",
    "          batch_size=batch_size,\n",
    "          epochs=epochs,\n",
    "          verbose=1,\n",
    "          validation_data=(x_img_test, y_label_test_OneHot)\n",
    "          )"
   ]
  },
  {
   "cell_type": "code",
   "execution_count": 12,
   "metadata": {},
   "outputs": [
    {
     "name": "stdout",
     "output_type": "stream",
     "text": [
      "Train on 50000 samples, validate on 10000 samples\n",
      "Epoch 1/5\n",
      "50000/50000 [==============================] - 8s 158us/step - loss: 1.6822 - acc: 0.3920 - val_loss: 1.4130 - val_acc: 0.4888\n",
      "Epoch 2/5\n",
      "50000/50000 [==============================] - 8s 152us/step - loss: 1.1826 - acc: 0.5821 - val_loss: 1.1323 - val_acc: 0.6032\n",
      "Epoch 3/5\n",
      "50000/50000 [==============================] - 8s 153us/step - loss: 0.9641 - acc: 0.6626 - val_loss: 1.0541 - val_acc: 0.6332\n",
      "Epoch 4/5\n",
      "50000/50000 [==============================] - 8s 150us/step - loss: 0.7891 - acc: 0.7257 - val_loss: 0.9200 - val_acc: 0.6852\n",
      "Epoch 5/5\n",
      "50000/50000 [==============================] - 7s 149us/step - loss: 0.6340 - acc: 0.7797 - val_loss: 0.8912 - val_acc: 0.6982\n"
     ]
    },
    {
     "data": {
      "text/plain": [
       "<keras.callbacks.History at 0x24eeb0ba8d0>"
      ]
     },
     "execution_count": 12,
     "metadata": {},
     "output_type": "execute_result"
    }
   ],
   "source": [
    "model.compile(loss=keras.losses.categorical_crossentropy,\n",
    "              optimizer=keras.optimizers.SGD(lr=0.05),\n",
    "              metrics=['accuracy'])\n",
    "model.fit(x_img_train_normalize, y_label_train_OneHot,\n",
    "          batch_size=batch_size,\n",
    "          epochs=epochs,\n",
    "          verbose=1,\n",
    "          validation_data=(x_img_test_normalize, y_label_test_OneHot)\n",
    "          )"
   ]
  },
  {
   "cell_type": "code",
   "execution_count": 13,
   "metadata": {},
   "outputs": [
    {
     "name": "stdout",
     "output_type": "stream",
     "text": [
      "Train on 50000 samples, validate on 10000 samples\n",
      "Epoch 1/30\n",
      "50000/50000 [==============================] - 8s 156us/step - loss: 0.4789 - acc: 0.8347 - val_loss: 0.9585 - val_acc: 0.6952\n",
      "Epoch 2/30\n",
      "50000/50000 [==============================] - 7s 150us/step - loss: 0.3299 - acc: 0.8864 - val_loss: 1.0142 - val_acc: 0.7037\n",
      "Epoch 3/30\n",
      "50000/50000 [==============================] - 8s 151us/step - loss: 0.2175 - acc: 0.9266 - val_loss: 1.1006 - val_acc: 0.7060\n",
      "Epoch 4/30\n",
      "50000/50000 [==============================] - 7s 149us/step - loss: 0.1408 - acc: 0.9532 - val_loss: 1.3522 - val_acc: 0.6889\n",
      "Epoch 5/30\n",
      "50000/50000 [==============================] - 8s 150us/step - loss: 0.0842 - acc: 0.9739 - val_loss: 1.3392 - val_acc: 0.7067\n",
      "Epoch 6/30\n",
      "50000/50000 [==============================] - 8s 150us/step - loss: 0.0581 - acc: 0.9819 - val_loss: 1.4090 - val_acc: 0.7102\n",
      "Epoch 7/30\n",
      "50000/50000 [==============================] - 8s 151us/step - loss: 0.0484 - acc: 0.9854 - val_loss: 1.4822 - val_acc: 0.7130\n",
      "Epoch 8/30\n",
      "50000/50000 [==============================] - 8s 152us/step - loss: 0.0403 - acc: 0.9877 - val_loss: 1.6114 - val_acc: 0.7060\n",
      "Epoch 9/30\n",
      "50000/50000 [==============================] - 8s 153us/step - loss: 0.0296 - acc: 0.9914 - val_loss: 1.6107 - val_acc: 0.7160\n",
      "Epoch 10/30\n",
      "50000/50000 [==============================] - 8s 150us/step - loss: 0.0162 - acc: 0.9957 - val_loss: 1.6888 - val_acc: 0.7142\n",
      "Epoch 11/30\n",
      "50000/50000 [==============================] - 8s 150us/step - loss: 0.0102 - acc: 0.9980 - val_loss: 1.7280 - val_acc: 0.7206\n",
      "Epoch 12/30\n",
      "50000/50000 [==============================] - 8s 150us/step - loss: 0.0105 - acc: 0.9973 - val_loss: 1.7404 - val_acc: 0.7233\n",
      "Epoch 13/30\n",
      "50000/50000 [==============================] - 8s 152us/step - loss: 0.0107 - acc: 0.9973 - val_loss: 1.7572 - val_acc: 0.7180\n",
      "Epoch 14/30\n",
      "50000/50000 [==============================] - 7s 150us/step - loss: 0.0095 - acc: 0.9977 - val_loss: 1.7772 - val_acc: 0.7228\n",
      "Epoch 15/30\n",
      "50000/50000 [==============================] - 7s 148us/step - loss: 0.0043 - acc: 0.9991 - val_loss: 1.8778 - val_acc: 0.7165\n",
      "Epoch 16/30\n",
      "50000/50000 [==============================] - 7s 148us/step - loss: 0.0065 - acc: 0.9986 - val_loss: 1.8195 - val_acc: 0.7195\n",
      "Epoch 17/30\n",
      "50000/50000 [==============================] - 7s 148us/step - loss: 0.0148 - acc: 0.9957 - val_loss: 1.8127 - val_acc: 0.7157\n",
      "Epoch 18/30\n",
      "50000/50000 [==============================] - 8s 151us/step - loss: 0.0044 - acc: 0.9991 - val_loss: 1.8574 - val_acc: 0.7195\n",
      "Epoch 19/30\n",
      "50000/50000 [==============================] - 8s 152us/step - loss: 0.0077 - acc: 0.9981 - val_loss: 1.8741 - val_acc: 0.7193\n",
      "Epoch 20/30\n",
      "50000/50000 [==============================] - 8s 153us/step - loss: 0.0194 - acc: 0.9947 - val_loss: 1.9137 - val_acc: 0.7131\n",
      "Epoch 21/30\n",
      "50000/50000 [==============================] - 8s 151us/step - loss: 0.0151 - acc: 0.9959 - val_loss: 1.8825 - val_acc: 0.7122\n",
      "Epoch 22/30\n",
      "50000/50000 [==============================] - 8s 150us/step - loss: 0.0121 - acc: 0.9964 - val_loss: 1.9627 - val_acc: 0.7062\n",
      "Epoch 23/30\n",
      "50000/50000 [==============================] - 8s 152us/step - loss: 0.0104 - acc: 0.9974 - val_loss: 1.9648 - val_acc: 0.7039\n",
      "Epoch 24/30\n",
      "50000/50000 [==============================] - 8s 152us/step - loss: 0.0277 - acc: 0.9914 - val_loss: 2.0242 - val_acc: 0.6965\n",
      "Epoch 25/30\n",
      "50000/50000 [==============================] - 8s 151us/step - loss: 0.0306 - acc: 0.9902 - val_loss: 2.0242 - val_acc: 0.6974\n",
      "Epoch 26/30\n",
      "50000/50000 [==============================] - 8s 151us/step - loss: 0.0405 - acc: 0.9870 - val_loss: 1.9732 - val_acc: 0.6947\n",
      "Epoch 27/30\n",
      "50000/50000 [==============================] - 8s 153us/step - loss: 0.0380 - acc: 0.9875 - val_loss: 1.9486 - val_acc: 0.7055\n",
      "Epoch 28/30\n",
      "50000/50000 [==============================] - 8s 155us/step - loss: 0.0311 - acc: 0.9897 - val_loss: 1.9974 - val_acc: 0.7041\n",
      "Epoch 29/30\n",
      "50000/50000 [==============================] - 8s 150us/step - loss: 0.0191 - acc: 0.9937 - val_loss: 2.0012 - val_acc: 0.7033\n",
      "Epoch 30/30\n",
      "50000/50000 [==============================] - 8s 154us/step - loss: 0.0229 - acc: 0.9930 - val_loss: 2.2088 - val_acc: 0.6867\n"
     ]
    },
    {
     "data": {
      "text/plain": [
       "<keras.callbacks.History at 0x24e848b2160>"
      ]
     },
     "execution_count": 13,
     "metadata": {},
     "output_type": "execute_result"
    }
   ],
   "source": [
    "epochs=30\n",
    "model.compile(loss=keras.losses.categorical_crossentropy,\n",
    "              optimizer=keras.optimizers.SGD(lr=0.05),\n",
    "              metrics=['accuracy'])\n",
    "model.fit(x_img_train_normalize, y_label_train_OneHot,\n",
    "          batch_size=batch_size,\n",
    "          epochs=epochs,\n",
    "          verbose=1,\n",
    "          validation_data=(x_img_test_normalize, y_label_test_OneHot)\n",
    "          )"
   ]
  },
  {
   "cell_type": "markdown",
   "metadata": {},
   "source": [
    "## try drop out to fight overfittng"
   ]
  },
  {
   "cell_type": "code",
   "execution_count": 14,
   "metadata": {},
   "outputs": [
    {
     "name": "stdout",
     "output_type": "stream",
     "text": [
      "WARNING:tensorflow:From C:\\ProgramData\\Anaconda3\\lib\\site-packages\\keras\\backend\\tensorflow_backend.py:3445: calling dropout (from tensorflow.python.ops.nn_ops) with keep_prob is deprecated and will be removed in a future version.\n",
      "Instructions for updating:\n",
      "Please use `rate` instead of `keep_prob`. Rate should be set to `rate = 1 - keep_prob`.\n"
     ]
    }
   ],
   "source": [
    "model=Sequential()\n",
    "model.add(Conv2D(filters=32,kernel_size=(3,3),\n",
    "                 input_shape=(32, 32,3), \n",
    "                 activation='relu', \n",
    "                 padding='same'))\n",
    "model.add(Dropout(rate=0.25))\n",
    "model.add(MaxPooling2D(pool_size=(2, 2), strides=(2, 2)))\n",
    "model.add(Conv2D(64, (5, 5), activation='relu'))\n",
    "model.add(Dropout(rate=0.25))\n",
    "model.add(MaxPooling2D(pool_size=(2, 2)))\n",
    "model.add(Flatten())\n",
    "model.add(Dropout(rate=0.25))\n",
    "model.add(Dense(1000, activation='relu'))\n",
    "model.add(Dropout(rate=0.25))\n",
    "model.add(Dense(num_classes, activation='softmax'))\n",
    "model.compile(loss=keras.losses.categorical_crossentropy,\n",
    "              optimizer=keras.optimizers.SGD(lr=0.05),\n",
    "              metrics=['accuracy'])"
   ]
  },
  {
   "cell_type": "markdown",
   "metadata": {},
   "source": [
    "## regularation has obvious effect"
   ]
  },
  {
   "cell_type": "code",
   "execution_count": 16,
   "metadata": {},
   "outputs": [
    {
     "name": "stdout",
     "output_type": "stream",
     "text": [
      "Train on 50000 samples, validate on 10000 samples\n",
      "Epoch 1/30\n",
      "50000/50000 [==============================] - 10s 196us/step - loss: 0.9947 - acc: 0.6516 - val_loss: 1.0587 - val_acc: 0.6528\n",
      "Epoch 2/30\n",
      "50000/50000 [==============================] - 9s 187us/step - loss: 0.9448 - acc: 0.6651 - val_loss: 1.0047 - val_acc: 0.6847\n",
      "Epoch 3/30\n",
      "50000/50000 [==============================] - 9s 186us/step - loss: 0.8928 - acc: 0.6878 - val_loss: 0.9497 - val_acc: 0.6923\n",
      "Epoch 4/30\n",
      "50000/50000 [==============================] - 9s 186us/step - loss: 0.8457 - acc: 0.7030 - val_loss: 0.9674 - val_acc: 0.6840\n",
      "Epoch 5/30\n",
      "50000/50000 [==============================] - 9s 187us/step - loss: 0.8043 - acc: 0.7173 - val_loss: 0.9339 - val_acc: 0.7009\n",
      "Epoch 6/30\n",
      "50000/50000 [==============================] - 9s 185us/step - loss: 0.7547 - acc: 0.7351 - val_loss: 0.9062 - val_acc: 0.7030\n",
      "Epoch 7/30\n",
      "50000/50000 [==============================] - 10s 191us/step - loss: 0.7119 - acc: 0.7495 - val_loss: 0.8478 - val_acc: 0.7204\n",
      "Epoch 8/30\n",
      "50000/50000 [==============================] - 10s 190us/step - loss: 0.6787 - acc: 0.7631 - val_loss: 0.9128 - val_acc: 0.6893\n",
      "Epoch 9/30\n",
      "50000/50000 [==============================] - 9s 184us/step - loss: 0.6393 - acc: 0.7735 - val_loss: 0.8223 - val_acc: 0.7208\n",
      "Epoch 10/30\n",
      "50000/50000 [==============================] - 9s 185us/step - loss: 0.6040 - acc: 0.7863 - val_loss: 0.8068 - val_acc: 0.7321\n",
      "Epoch 11/30\n",
      "50000/50000 [==============================] - 9s 182us/step - loss: 0.5685 - acc: 0.7994 - val_loss: 0.7866 - val_acc: 0.7368\n",
      "Epoch 12/30\n",
      "50000/50000 [==============================] - 9s 184us/step - loss: 0.5379 - acc: 0.8096 - val_loss: 0.7916 - val_acc: 0.7314\n",
      "Epoch 13/30\n",
      "50000/50000 [==============================] - 9s 181us/step - loss: 0.5055 - acc: 0.8227 - val_loss: 0.7862 - val_acc: 0.7329\n",
      "Epoch 14/30\n",
      "50000/50000 [==============================] - 9s 184us/step - loss: 0.4730 - acc: 0.8324 - val_loss: 0.7471 - val_acc: 0.7455\n",
      "Epoch 15/30\n",
      "50000/50000 [==============================] - 9s 181us/step - loss: 0.4482 - acc: 0.8423 - val_loss: 0.7472 - val_acc: 0.7455\n",
      "Epoch 16/30\n",
      "50000/50000 [==============================] - 9s 183us/step - loss: 0.4201 - acc: 0.8506 - val_loss: 0.7502 - val_acc: 0.7441\n",
      "Epoch 17/30\n",
      "50000/50000 [==============================] - 9s 182us/step - loss: 0.3989 - acc: 0.8577 - val_loss: 0.7445 - val_acc: 0.7452\n",
      "Epoch 18/30\n",
      "50000/50000 [==============================] - 9s 188us/step - loss: 0.3688 - acc: 0.8700 - val_loss: 0.7278 - val_acc: 0.7517\n",
      "Epoch 19/30\n",
      "50000/50000 [==============================] - 9s 182us/step - loss: 0.3541 - acc: 0.8751 - val_loss: 0.7276 - val_acc: 0.7514\n",
      "Epoch 20/30\n",
      "50000/50000 [==============================] - 9s 183us/step - loss: 0.3351 - acc: 0.8798 - val_loss: 0.7301 - val_acc: 0.7442\n",
      "Epoch 21/30\n",
      "50000/50000 [==============================] - 9s 184us/step - loss: 0.3199 - acc: 0.8858 - val_loss: 0.7501 - val_acc: 0.7450\n",
      "Epoch 22/30\n",
      "50000/50000 [==============================] - 9s 181us/step - loss: 0.2988 - acc: 0.8934 - val_loss: 0.7530 - val_acc: 0.7438\n",
      "Epoch 23/30\n",
      "50000/50000 [==============================] - 9s 181us/step - loss: 0.2824 - acc: 0.8993 - val_loss: 0.7430 - val_acc: 0.7450\n",
      "Epoch 24/30\n",
      "50000/50000 [==============================] - 9s 183us/step - loss: 0.2674 - acc: 0.9067 - val_loss: 0.7374 - val_acc: 0.7477\n",
      "Epoch 25/30\n",
      "50000/50000 [==============================] - 9s 182us/step - loss: 0.2497 - acc: 0.9112 - val_loss: 0.7291 - val_acc: 0.7536\n",
      "Epoch 26/30\n",
      "50000/50000 [==============================] - 9s 182us/step - loss: 0.2392 - acc: 0.9144 - val_loss: 0.7398 - val_acc: 0.7480\n",
      "Epoch 27/30\n",
      "50000/50000 [==============================] - 9s 181us/step - loss: 0.2328 - acc: 0.9182 - val_loss: 0.7380 - val_acc: 0.7535\n",
      "Epoch 28/30\n",
      "50000/50000 [==============================] - 9s 184us/step - loss: 0.2142 - acc: 0.9247 - val_loss: 0.7386 - val_acc: 0.7484\n",
      "Epoch 29/30\n",
      "50000/50000 [==============================] - 9s 182us/step - loss: 0.2110 - acc: 0.9236 - val_loss: 0.7871 - val_acc: 0.7414\n",
      "Epoch 30/30\n",
      "50000/50000 [==============================] - 9s 182us/step - loss: 0.1974 - acc: 0.9300 - val_loss: 0.7554 - val_acc: 0.7532\n"
     ]
    },
    {
     "data": {
      "text/plain": [
       "<keras.callbacks.History at 0x24e861b8630>"
      ]
     },
     "execution_count": 16,
     "metadata": {},
     "output_type": "execute_result"
    }
   ],
   "source": [
    "epochs=30\n",
    "model.compile(loss=keras.losses.categorical_crossentropy,\n",
    "              optimizer=keras.optimizers.SGD(lr=0.02),\n",
    "              metrics=['accuracy'])\n",
    "model.fit(x_img_train_normalize, y_label_train_OneHot,\n",
    "          batch_size=batch_size,\n",
    "          epochs=epochs,\n",
    "          verbose=1,\n",
    "          validation_data=(x_img_test_normalize, y_label_test_OneHot)\n",
    "          )"
   ]
  },
  {
   "cell_type": "code",
   "execution_count": null,
   "metadata": {},
   "outputs": [],
   "source": []
  }
 ],
 "metadata": {
  "kernelspec": {
   "display_name": "Python 3",
   "language": "python",
   "name": "python3"
  },
  "language_info": {
   "codemirror_mode": {
    "name": "ipython",
    "version": 3
   },
   "file_extension": ".py",
   "mimetype": "text/x-python",
   "name": "python",
   "nbconvert_exporter": "python",
   "pygments_lexer": "ipython3",
   "version": "3.6.8"
  }
 },
 "nbformat": 4,
 "nbformat_minor": 2
}

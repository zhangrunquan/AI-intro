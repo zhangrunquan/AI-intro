{
 "cells": [
  {
   "cell_type": "markdown",
   "metadata": {},
   "source": [
    "### 1.加载数据"
   ]
  },
  {
   "cell_type": "code",
   "execution_count": 19,
   "metadata": {},
   "outputs": [],
   "source": [
    "import keras\n",
    "import numpy as np\n",
    "import matplotlib.pyplot as plt\n",
    "from keras.layers import Dense,Dropout\n",
    "from keras.models import Model,Sequential\n",
    "from keras.datasets import mnist\n",
    "from keras.utils import to_categorical\n",
    "from keras.optimizers import SGD "
   ]
  },
  {
   "cell_type": "code",
   "execution_count": 20,
   "metadata": {},
   "outputs": [
    {
     "name": "stdout",
     "output_type": "stream",
     "text": [
      "X_train shape: (50000, 784) \n",
      "y_train shape: (50000, 10)\n",
      "X_test shape: (10000, 784)\n",
      "y_test shape: (10000, 10)\n"
     ]
    }
   ],
   "source": [
    "def load_data():\n",
    "    (x_train, y_train), (x_test, y_test) = mnist.load_data()\n",
    "    x_train = (x_train.astype(np.float32) - 127.5)/127.5\n",
    "    \n",
    "    # convert shape of x_train from (60000, 28, 28) to (60000, 784) \n",
    "    # 784 columns per row\n",
    "    x_train = x_train.reshape(-1, 784)\n",
    "    x_train=x_train[:50000]\n",
    "    y_train=y_train[:50000]\n",
    "    x_test=x_test.reshape(-1,784)\n",
    "    y_test=to_categorical(y_test)\n",
    "    y_train=to_categorical(y_train)\n",
    "    return (x_train, y_train, x_test, y_test)\n",
    "\n",
    "(X_train, y_train,X_test, y_test)=load_data()\n",
    "\n",
    "print('X_train shape: {0} '.format(X_train.shape))\n",
    "print('y_train shape: {0}'.format(y_train.shape))\n",
    "print('X_test shape: {0}'.format(X_test.shape))\n",
    "print('y_test shape: {0}'.format(y_test.shape))"
   ]
  },
  {
   "cell_type": "markdown",
   "metadata": {},
   "source": [
    "## 2.网络模型"
   ]
  },
  {
   "cell_type": "code",
   "execution_count": 21,
   "metadata": {},
   "outputs": [
    {
     "name": "stdout",
     "output_type": "stream",
     "text": [
      "_________________________________________________________________\n",
      "Layer (type)                 Output Shape              Param #   \n",
      "=================================================================\n",
      "dense_24 (Dense)             (None, 400)               314000    \n",
      "_________________________________________________________________\n",
      "dense_25 (Dense)             (None, 350)               140350    \n",
      "_________________________________________________________________\n",
      "dense_26 (Dense)             (None, 300)               105300    \n",
      "_________________________________________________________________\n",
      "dense_27 (Dense)             (None, 250)               75250     \n",
      "_________________________________________________________________\n",
      "dense_28 (Dense)             (None, 200)               50200     \n",
      "_________________________________________________________________\n",
      "dense_29 (Dense)             (None, 150)               30150     \n",
      "_________________________________________________________________\n",
      "dense_30 (Dense)             (None, 100)               15100     \n",
      "_________________________________________________________________\n",
      "dense_31 (Dense)             (None, 50)                5050      \n",
      "_________________________________________________________________\n",
      "dense_32 (Dense)             (None, 10)                510       \n",
      "=================================================================\n",
      "Total params: 735,910\n",
      "Trainable params: 735,910\n",
      "Non-trainable params: 0\n",
      "_________________________________________________________________\n"
     ]
    }
   ],
   "source": [
    "model=Sequential()\n",
    "model.add(Dense(units=400,input_shape=(784,),activation='sigmoid'))\n",
    "for i in range(350,0,-50):\n",
    "    model.add(Dense(units=i,activation='sigmoid'))\n",
    "model.add(Dense(units=10,activation='softmax'))\n",
    "model.summary()"
   ]
  },
  {
   "cell_type": "code",
   "execution_count": 51,
   "metadata": {},
   "outputs": [],
   "source": [
    "learning_rate=10\n",
    "model.compile(loss='categorical_crossentropy',optimizer=SGD(lr=learning_rate),metrics=['acc'])"
   ]
  },
  {
   "cell_type": "markdown",
   "metadata": {},
   "source": [
    "### 3.验证深层网络sgd失效的一次例子,注意到验证集正确率始终为随机猜测"
   ]
  },
  {
   "cell_type": "code",
   "execution_count": 52,
   "metadata": {},
   "outputs": [
    {
     "name": "stdout",
     "output_type": "stream",
     "text": [
      "Train on 50000 samples, validate on 10000 samples\n",
      "Epoch 1/20\n",
      "50000/50000 [==============================] - 2s 31us/step - loss: 2.3514 - acc: 0.1036 - val_loss: 2.3502 - val_acc: 0.1028\n",
      "Epoch 2/20\n",
      "50000/50000 [==============================] - 1s 25us/step - loss: 2.3342 - acc: 0.1038 - val_loss: 2.3498 - val_acc: 0.1009\n",
      "Epoch 3/20\n",
      "50000/50000 [==============================] - 1s 24us/step - loss: 2.3388 - acc: 0.1006 - val_loss: 2.3782 - val_acc: 0.1010\n",
      "Epoch 4/20\n",
      "50000/50000 [==============================] - 1s 24us/step - loss: 2.3382 - acc: 0.1029 - val_loss: 2.3363 - val_acc: 0.0958\n",
      "Epoch 5/20\n",
      "50000/50000 [==============================] - 1s 24us/step - loss: 2.3401 - acc: 0.1010 - val_loss: 2.3749 - val_acc: 0.0974\n",
      "Epoch 6/20\n",
      "50000/50000 [==============================] - 1s 24us/step - loss: 2.3391 - acc: 0.1015 - val_loss: 2.4060 - val_acc: 0.1028\n",
      "Epoch 7/20\n",
      "50000/50000 [==============================] - 1s 24us/step - loss: 2.3394 - acc: 0.1027 - val_loss: 2.3901 - val_acc: 0.1135\n",
      "Epoch 8/20\n",
      "50000/50000 [==============================] - 1s 24us/step - loss: 2.3364 - acc: 0.1033 - val_loss: 2.3730 - val_acc: 0.1028\n",
      "Epoch 9/20\n",
      "50000/50000 [==============================] - 1s 24us/step - loss: 2.3393 - acc: 0.1021 - val_loss: 2.3888 - val_acc: 0.0980\n",
      "Epoch 10/20\n",
      "50000/50000 [==============================] - 1s 25us/step - loss: 2.3399 - acc: 0.1025 - val_loss: 2.3356 - val_acc: 0.0958\n",
      "Epoch 11/20\n",
      "50000/50000 [==============================] - 1s 25us/step - loss: 2.3405 - acc: 0.1013 - val_loss: 2.3577 - val_acc: 0.0982\n",
      "Epoch 12/20\n",
      "50000/50000 [==============================] - 1s 26us/step - loss: 2.3381 - acc: 0.1025 - val_loss: 2.3451 - val_acc: 0.0982\n",
      "Epoch 13/20\n",
      "50000/50000 [==============================] - 1s 24us/step - loss: 2.3371 - acc: 0.1024 - val_loss: 2.3624 - val_acc: 0.0958\n",
      "Epoch 14/20\n",
      "50000/50000 [==============================] - 1s 24us/step - loss: 2.3383 - acc: 0.1005 - val_loss: 2.3501 - val_acc: 0.1032\n",
      "Epoch 15/20\n",
      "50000/50000 [==============================] - 1s 25us/step - loss: 2.3353 - acc: 0.1021 - val_loss: 2.3592 - val_acc: 0.1028\n",
      "Epoch 16/20\n",
      "50000/50000 [==============================] - 1s 25us/step - loss: 2.3373 - acc: 0.1001 - val_loss: 2.3373 - val_acc: 0.1032\n",
      "Epoch 17/20\n",
      "50000/50000 [==============================] - 1s 24us/step - loss: 2.3379 - acc: 0.1007 - val_loss: 2.4273 - val_acc: 0.1032\n",
      "Epoch 18/20\n",
      "50000/50000 [==============================] - 1s 24us/step - loss: 2.3372 - acc: 0.1046 - val_loss: 2.3372 - val_acc: 0.0980\n",
      "Epoch 19/20\n",
      "50000/50000 [==============================] - 1s 26us/step - loss: 2.3385 - acc: 0.1026 - val_loss: 2.3935 - val_acc: 0.0982\n",
      "Epoch 20/20\n",
      "50000/50000 [==============================] - 1s 24us/step - loss: 2.3391 - acc: 0.1011 - val_loss: 2.3184 - val_acc: 0.1009\n"
     ]
    }
   ],
   "source": [
    "batch_size=128\n",
    "epochs=20\n",
    "history=model.fit(X_train,y_train,\n",
    "          batch_size=batch_size,\n",
    "         epochs=epochs,\n",
    "         validation_data=[X_test,y_test])"
   ]
  },
  {
   "cell_type": "code",
   "execution_count": 45,
   "metadata": {},
   "outputs": [],
   "source": [
    "def plot_acc_loss(history):\n",
    "    plt.plot(history.history['acc'],color='blue',label='train_accracy')\n",
    "    plt.plot(history.history['val_acc'],color='red',label='test_accracy')\n",
    "    plt.xlabel('epoch')\n",
    "    plt.ylabel('accuracy')\n",
    "    plt.legend()\n",
    "    plt.show()\n",
    "    plt.figure()\n",
    "    plt.plot(history.history['loss'],color='blue',label='train_loss')\n",
    "    plt.plot(history.history['val_loss'],color='red',label='test_loss')\n",
    "    plt.xlabel('epoch')\n",
    "    plt.ylabel('accuracy')\n",
    "    plt.legend()\n",
    "    plt.show()\n",
    "             "
   ]
  },
  {
   "cell_type": "code",
   "execution_count": 53,
   "metadata": {},
   "outputs": [
    {
     "data": {
      "image/png": "[encoded data removed]",
      "text/plain": [
       "<Figure size 432x288 with 1 Axes>"
      ]
     },
     "metadata": {
      "needs_background": "light"
     },
     "output_type": "display_data"
    },
    {
     "data": {
      "image/png": "[encoded data removed]",
      "text/plain": [
       "<Figure size 432x288 with 1 Axes>"
      ]
     },
     "metadata": {
      "needs_background": "light"
     },
     "output_type": "display_data"
    }
   ],
   "source": [
    "plot_acc_loss(history)"
   ]
  },
  {
   "cell_type": "markdown",
   "metadata": {},
   "source": [
    "### 4.尝试看adam效果"
   ]
  },
  {
   "cell_type": "code",
   "execution_count": 54,
   "metadata": {},
   "outputs": [],
   "source": [
    "def adam_optimizer():\n",
    "    return keras.optimizers.Adam(lr=0.0002, beta_1=0.5)"
   ]
  },
  {
   "cell_type": "code",
   "execution_count": 55,
   "metadata": {},
   "outputs": [],
   "source": [
    "model.compile(loss='categorical_crossentropy',optimizer=adam_optimizer(),metrics=['acc'])"
   ]
  },
  {
   "cell_type": "code",
   "execution_count": 56,
   "metadata": {},
   "outputs": [
    {
     "name": "stdout",
     "output_type": "stream",
     "text": [
      "Train on 50000 samples, validate on 10000 samples\n",
      "Epoch 1/20\n",
      "50000/50000 [==============================] - 2s 44us/step - loss: 2.3121 - acc: 0.0998 - val_loss: 2.3059 - val_acc: 0.1009\n",
      "Epoch 2/20\n",
      "50000/50000 [==============================] - 2s 33us/step - loss: 2.1821 - acc: 0.1502 - val_loss: 2.0590 - val_acc: 0.1863\n",
      "Epoch 3/20\n",
      "50000/50000 [==============================] - 2s 33us/step - loss: 1.9632 - acc: 0.2091 - val_loss: 2.1161 - val_acc: 0.1856\n",
      "Epoch 4/20\n",
      "50000/50000 [==============================] - 2s 33us/step - loss: 1.7598 - acc: 0.2926 - val_loss: 2.2739 - val_acc: 0.1915\n",
      "Epoch 5/20\n",
      "50000/50000 [==============================] - 2s 33us/step - loss: 1.6418 - acc: 0.3650 - val_loss: 2.4062 - val_acc: 0.1820\n",
      "Epoch 6/20\n",
      "50000/50000 [==============================] - 2s 33us/step - loss: 1.5496 - acc: 0.4023 - val_loss: 2.7019 - val_acc: 0.1756\n",
      "Epoch 7/20\n",
      "50000/50000 [==============================] - 2s 33us/step - loss: 1.4951 - acc: 0.4242 - val_loss: 2.6993 - val_acc: 0.1800\n",
      "Epoch 8/20\n",
      "50000/50000 [==============================] - 2s 33us/step - loss: 1.4490 - acc: 0.4417 - val_loss: 2.6420 - val_acc: 0.1787\n",
      "Epoch 9/20\n",
      "50000/50000 [==============================] - 2s 33us/step - loss: 1.4093 - acc: 0.4598 - val_loss: 2.6389 - val_acc: 0.1995\n",
      "Epoch 10/20\n",
      "50000/50000 [==============================] - 2s 33us/step - loss: 1.3791 - acc: 0.4834 - val_loss: 2.7916 - val_acc: 0.2054\n",
      "Epoch 11/20\n",
      "50000/50000 [==============================] - 2s 32us/step - loss: 1.3531 - acc: 0.4851 - val_loss: 2.6630 - val_acc: 0.1979\n",
      "Epoch 12/20\n",
      "50000/50000 [==============================] - 2s 32us/step - loss: 1.3325 - acc: 0.4852 - val_loss: 2.5567 - val_acc: 0.1909\n",
      "Epoch 13/20\n",
      "50000/50000 [==============================] - 2s 33us/step - loss: 1.3100 - acc: 0.4937 - val_loss: 2.5510 - val_acc: 0.1973\n",
      "Epoch 14/20\n",
      "50000/50000 [==============================] - 2s 32us/step - loss: 1.2884 - acc: 0.5194 - val_loss: 2.6224 - val_acc: 0.1984\n",
      "Epoch 15/20\n",
      "50000/50000 [==============================] - 2s 32us/step - loss: 1.2401 - acc: 0.5527 - val_loss: 2.6394 - val_acc: 0.2007\n",
      "Epoch 16/20\n",
      "50000/50000 [==============================] - 2s 32us/step - loss: 1.1887 - acc: 0.5689 - val_loss: 2.6151 - val_acc: 0.1974\n",
      "Epoch 17/20\n",
      "50000/50000 [==============================] - 2s 34us/step - loss: 1.1371 - acc: 0.5766 - val_loss: 2.5693 - val_acc: 0.1928\n",
      "Epoch 18/20\n",
      "50000/50000 [==============================] - 2s 33us/step - loss: 1.0983 - acc: 0.5784 - val_loss: 2.5969 - val_acc: 0.1875\n",
      "Epoch 19/20\n",
      "50000/50000 [==============================] - 2s 33us/step - loss: 1.0565 - acc: 0.5826 - val_loss: 2.5645 - val_acc: 0.1891\n",
      "Epoch 20/20\n",
      "50000/50000 [==============================] - 2s 33us/step - loss: 1.0268 - acc: 0.5840 - val_loss: 2.6327 - val_acc: 0.1880\n"
     ]
    }
   ],
   "source": [
    "batch_size=128\n",
    "epochs=20\n",
    "history=model.fit(X_train,y_train,\n",
    "          batch_size=batch_size,\n",
    "         epochs=epochs,\n",
    "         validation_data=[X_test,y_test])"
   ]
  },
  {
   "cell_type": "markdown",
   "metadata": {},
   "source": [
    "### 5.自己实现梯度下降优化器,第49行为新的更新方法"
   ]
  },
  {
   "cell_type": "code",
   "execution_count": 1,
   "metadata": {},
   "outputs": [
    {
     "name": "stderr",
     "output_type": "stream",
     "text": [
      "Using TensorFlow backend.\n"
     ]
    }
   ],
   "source": [
    "from keras.optimizers import Optimizer\n",
    "import six\n",
    "import copy\n",
    "from six.moves import zip\n",
    "\n",
    "from keras import backend as K\n",
    "from keras.utils.generic_utils import serialize_keras_object\n",
    "from keras.utils.generic_utils import deserialize_keras_object\n",
    "from keras.legacy import interfaces\n",
    "import numpy as np\n",
    "class mySGD(Optimizer):\n",
    "    \"\"\"Stochastic gradient descent optimizer.\n",
    "    Includes support for momentum,\n",
    "    learning rate decay, and Nesterov momentum.\n",
    "    # Arguments\n",
    "        lr: float >= 0. Learning rate.\n",
    "        momentum: float >= 0. Parameter that accelerates SGD\n",
    "            in the relevant direction and dampens oscillations.\n",
    "        decay: float >= 0. Learning rate decay over each update.\n",
    "        nesterov: boolean. Whether to apply Nesterov momentum.\n",
    "    \"\"\"\n",
    "\n",
    "    def __init__(self, lr=0.01, momentum=0., decay=0.,\n",
    "                 nesterov=False, **kwargs):\n",
    "        super(mySGD, self).__init__(**kwargs)\n",
    "        with K.name_scope(self.__class__.__name__):\n",
    "            self.iterations = K.variable(0, dtype='int64', name='iterations')\n",
    "            self.lr = K.variable(lr, name='lr')\n",
    "            self.momentum = K.variable(momentum, name='momentum')\n",
    "            self.decay = K.variable(decay, name='decay')\n",
    "        self.initial_decay = decay\n",
    "        self.nesterov = nesterov\n",
    "\n",
    "    @interfaces.legacy_get_updates_support\n",
    "    def get_updates(self, loss, params):\n",
    "        grads = self.get_gradients(loss, params)\n",
    "        self.updates = [K.update_add(self.iterations, 1)]\n",
    "\n",
    "        lr = self.lr\n",
    "        if self.initial_decay > 0:\n",
    "            lr = lr * (1. / (1. + self.decay * K.cast(self.iterations,\n",
    "                                                      K.dtype(self.decay))))\n",
    "        print(grads)\n",
    "        # momentum\n",
    "        shapes = [K.int_shape(p) for p in params]\n",
    "        moments = [K.zeros(shape) for shape in shapes]\n",
    "        self.weights = [self.iterations] + moments\n",
    "        for p, g, m in zip(params, grads, moments):\n",
    "            v = self.momentum * m - tf.norm(p,ord='euclidean')*lr /tf.norm(g,ord='euclidean')* g  # 这是新的更新方法\n",
    "            self.updates.append(K.update(m, v))\n",
    "            \n",
    "            if self.nesterov:\n",
    "                new_p = p + self.momentum * v - lr * g\n",
    "            else:\n",
    "                new_p = p + v\n",
    "\n",
    "            # Apply constraints.\n",
    "            if getattr(p, 'constraint', None) is not None:\n",
    "                new_p = p.constraint(new_p)\n",
    "\n",
    "            self.updates.append(K.update(p, new_p))\n",
    "        return self.updates\n",
    "\n",
    "    def get_config(self):\n",
    "        config = {'lr': float(K.get_value(self.lr)),\n",
    "                  'momentum': float(K.get_value(self.momentum)),\n",
    "                  'decay': float(K.get_value(self.decay)),\n",
    "                  'nesterov': self.nesterov}\n",
    "        base_config = super(SGD, self).get_config()\n",
    "        return dict(list(base_config.items()) + list(config.items()))"
   ]
  }
 ],
 "metadata": {
  "kernelspec": {
   "display_name": "Python 3",
   "language": "python",
   "name": "python3"
  },
  "language_info": {
   "codemirror_mode": {
    "name": "ipython",
    "version": 3
   },
   "file_extension": ".py",
   "mimetype": "text/x-python",
   "name": "python",
   "nbconvert_exporter": "python",
   "pygments_lexer": "ipython3",
   "version": "3.7.0"
  }
 },
 "nbformat": 4,
 "nbformat_minor": 2
}

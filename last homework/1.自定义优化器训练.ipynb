{
 "cells": [
  {
   "cell_type": "markdown",
   "metadata": {},
   "source": [
    "### 1.加载数据"
   ]
  },
  {
   "cell_type": "code",
   "execution_count": 58,
   "metadata": {},
   "outputs": [],
   "source": [
    "import keras\n",
    "import numpy as np\n",
    "import matplotlib.pyplot as plt\n",
    "from keras.layers import Dense,Dropout\n",
    "from keras.models import Model,Sequential\n",
    "from keras.datasets import mnist\n",
    "from keras.utils import to_categorical\n",
    "from keras.optimizers import SGD "
   ]
  },
  {
   "cell_type": "code",
   "execution_count": 59,
   "metadata": {},
   "outputs": [
    {
     "name": "stdout",
     "output_type": "stream",
     "text": [
      "X_train shape: (50000, 784) \n",
      "y_train shape: (50000, 10)\n",
      "X_test shape: (10000, 784)\n",
      "y_test shape: (10000, 10)\n"
     ]
    }
   ],
   "source": [
    "def load_data():\n",
    "    (x_train, y_train), (x_test, y_test) = mnist.load_data()\n",
    "    x_train = (x_train.astype(np.float32) - 127.5)/127.5\n",
    "    \n",
    "    # convert shape of x_train from (60000, 28, 28) to (60000, 784) \n",
    "    # 784 columns per row\n",
    "    x_train = x_train.reshape(-1, 784)\n",
    "    x_train=x_train[:50000]\n",
    "    y_train=y_train[:50000]\n",
    "    x_test=x_test.reshape(-1,784)\n",
    "    y_test=to_categorical(y_test)\n",
    "    y_train=to_categorical(y_train)\n",
    "    return (x_train, y_train, x_test, y_test)\n",
    "\n",
    "(X_train, y_train,X_test, y_test)=load_data()\n",
    "\n",
    "print('X_train shape: {0} '.format(X_train.shape))\n",
    "print('y_train shape: {0}'.format(y_train.shape))\n",
    "print('X_test shape: {0}'.format(X_test.shape))\n",
    "print('y_test shape: {0}'.format(y_test.shape))"
   ]
  },
  {
   "cell_type": "markdown",
   "metadata": {},
   "source": [
    "### 2.自定义的优化器"
   ]
  },
  {
   "cell_type": "code",
   "execution_count": 60,
   "metadata": {},
   "outputs": [],
   "source": [
    "from keras.optimizers import Optimizer\n",
    "import six\n",
    "import copy\n",
    "from six.moves import zip\n",
    "\n",
    "from keras import backend as K\n",
    "from keras.utils.generic_utils import serialize_keras_object\n",
    "from keras.utils.generic_utils import deserialize_keras_object\n",
    "from keras.legacy import interfaces\n",
    "import numpy as np\n",
    "class mySGD(Optimizer):\n",
    "    \"\"\"Stochastic gradient descent optimizer.\n",
    "    Includes support for momentum,\n",
    "    learning rate decay, and Nesterov momentum.\n",
    "    # Arguments\n",
    "        lr: float >= 0. Learning rate.\n",
    "        momentum: float >= 0. Parameter that accelerates SGD\n",
    "            in the relevant direction and dampens oscillations.\n",
    "        decay: float >= 0. Learning rate decay over each update.\n",
    "        nesterov: boolean. Whether to apply Nesterov momentum.\n",
    "    \"\"\"\n",
    "\n",
    "    def __init__(self, lr=0.01, momentum=0., decay=0.,\n",
    "                 nesterov=False, **kwargs):\n",
    "        super(mySGD, self).__init__(**kwargs)\n",
    "        with K.name_scope(self.__class__.__name__):\n",
    "            self.iterations = K.variable(0, dtype='int64', name='iterations')\n",
    "            self.lr = K.variable(lr, name='lr')\n",
    "            self.momentum = K.variable(momentum, name='momentum')\n",
    "            self.decay = K.variable(decay, name='decay')\n",
    "        self.initial_decay = decay\n",
    "        self.nesterov = nesterov\n",
    "\n",
    "    @interfaces.legacy_get_updates_support\n",
    "    def get_updates(self, loss, params):\n",
    "        grads = self.get_gradients(loss, params)\n",
    "        self.updates = [K.update_add(self.iterations, 1)]\n",
    "\n",
    "        lr = self.lr\n",
    "        if self.initial_decay > 0:\n",
    "            lr = lr * (1. / (1. + self.decay * K.cast(self.iterations,\n",
    "                                                      K.dtype(self.decay))))\n",
    "#         print(grads)\n",
    "        # momentum\n",
    "        shapes = [K.int_shape(p) for p in params]\n",
    "        moments = [K.zeros(shape) for shape in shapes]\n",
    "        self.weights = [self.iterations] + moments\n",
    "        for p, g, m in zip(params, grads, moments):\n",
    "#             print(params[0].shape)\n",
    "#             print(params[0].read_value())\n",
    "#             with sess.as_default():\n",
    "#                 print(params[0].eval())\n",
    "            \n",
    "#             print(tf.norm(params[0],ord='euclidean'))\n",
    "#             v = self.momentum * m - lr * g  # velocity\n",
    "            v = self.momentum * m - tf.norm(p,ord='euclidean')*lr /tf.norm(g,ord='euclidean')* g  # velocity\n",
    "            self.updates.append(K.update(m, v))\n",
    "            \n",
    "            if self.nesterov:\n",
    "                new_p = p + self.momentum * v - lr * g\n",
    "            else:\n",
    "                new_p = p + v\n",
    "\n",
    "            # Apply constraints.\n",
    "            if getattr(p, 'constraint', None) is not None:\n",
    "                new_p = p.constraint(new_p)\n",
    "\n",
    "            self.updates.append(K.update(p, new_p))\n",
    "        return self.updates\n",
    "\n",
    "    def get_config(self):\n",
    "        config = {'lr': float(K.get_value(self.lr)),\n",
    "                  'momentum': float(K.get_value(self.momentum)),\n",
    "                  'decay': float(K.get_value(self.decay)),\n",
    "                  'nesterov': self.nesterov}\n",
    "        base_config = super(SGD, self).get_config()\n",
    "        return dict(list(base_config.items()) + list(config.items()))"
   ]
  },
  {
   "cell_type": "markdown",
   "metadata": {},
   "source": [
    "### 3.test custom optimizer can work"
   ]
  },
  {
   "cell_type": "code",
   "execution_count": 61,
   "metadata": {},
   "outputs": [
    {
     "name": "stdout",
     "output_type": "stream",
     "text": [
      "_________________________________________________________________\n",
      "Layer (type)                 Output Shape              Param #   \n",
      "=================================================================\n",
      "dense_26 (Dense)             (None, 20)                2020      \n",
      "_________________________________________________________________\n",
      "dense_27 (Dense)             (None, 5)                 105       \n",
      "=================================================================\n",
      "Total params: 2,125\n",
      "Trainable params: 2,125\n",
      "Non-trainable params: 0\n",
      "_________________________________________________________________\n"
     ]
    }
   ],
   "source": [
    "model=Sequential()\n",
    "model.add(Dense(units=20,input_shape=(100,)))\n",
    "model.add(Dense(units=5))\n",
    "model.summary()\n",
    "model.compile(optimizer=mySGD(),loss='categorical_crossentropy',metrics=['acc'])"
   ]
  },
  {
   "cell_type": "code",
   "execution_count": 62,
   "metadata": {},
   "outputs": [
    {
     "name": "stdout",
     "output_type": "stream",
     "text": [
      "training data shape : (10, 100)\n",
      "labels.shape :(10, 5)\n"
     ]
    }
   ],
   "source": [
    "num_train=10\n",
    "training_data=np.random.normal(0,1,[num_train,100])\n",
    "labels=np.random.randint(low=0,high=5,size=[num_train])\n",
    "labels=to_categorical(labels)\n",
    "print('training data shape : {0}'.format(training_data.shape))\n",
    "print('labels.shape :{0}'.format(labels.shape))"
   ]
  },
  {
   "cell_type": "code",
   "execution_count": 63,
   "metadata": {},
   "outputs": [
    {
     "name": "stdout",
     "output_type": "stream",
     "text": [
      "[<tf.Tensor 'training_11/mySGD/gradients/dense_26/MatMul_grad/MatMul_1:0' shape=(100, 20) dtype=float32>, <tf.Tensor 'training_11/mySGD/gradients/dense_26/BiasAdd_grad/BiasAddGrad:0' shape=(20,) dtype=float32>, <tf.Tensor 'training_11/mySGD/gradients/dense_27/MatMul_grad/MatMul_1:0' shape=(20, 5) dtype=float32>, <tf.Tensor 'training_11/mySGD/gradients/dense_27/BiasAdd_grad/BiasAddGrad:0' shape=(5,) dtype=float32>]\n",
      "Epoch 1/1\n",
      "10/10 [==============================] - 0s 27ms/step - loss: 5.0481 - acc: 0.2000\n"
     ]
    },
    {
     "data": {
      "text/plain": [
       "<keras.callbacks.History at 0x1bb6f6a72e8>"
      ]
     },
     "execution_count": 63,
     "metadata": {},
     "output_type": "execute_result"
    }
   ],
   "source": [
    "batch_size=2\n",
    "epochs=1\n",
    "model.fit(training_data,labels,epochs=epochs,batch_size=batch_size)"
   ]
  },
  {
   "cell_type": "markdown",
   "metadata": {},
   "source": [
    "### 4.real model"
   ]
  },
  {
   "cell_type": "code",
   "execution_count": 68,
   "metadata": {},
   "outputs": [
    {
     "name": "stdout",
     "output_type": "stream",
     "text": [
      "_________________________________________________________________\n",
      "Layer (type)                 Output Shape              Param #   \n",
      "=================================================================\n",
      "dense_46 (Dense)             (None, 400)               314000    \n",
      "_________________________________________________________________\n",
      "dense_47 (Dense)             (None, 350)               140350    \n",
      "_________________________________________________________________\n",
      "dense_48 (Dense)             (None, 300)               105300    \n",
      "_________________________________________________________________\n",
      "dense_49 (Dense)             (None, 250)               75250     \n",
      "_________________________________________________________________\n",
      "dense_50 (Dense)             (None, 200)               50200     \n",
      "_________________________________________________________________\n",
      "dense_51 (Dense)             (None, 150)               30150     \n",
      "_________________________________________________________________\n",
      "dense_52 (Dense)             (None, 100)               15100     \n",
      "_________________________________________________________________\n",
      "dense_53 (Dense)             (None, 50)                5050      \n",
      "_________________________________________________________________\n",
      "dense_54 (Dense)             (None, 10)                510       \n",
      "=================================================================\n",
      "Total params: 735,910\n",
      "Trainable params: 735,910\n",
      "Non-trainable params: 0\n",
      "_________________________________________________________________\n"
     ]
    }
   ],
   "source": [
    "model=Sequential()\n",
    "model.add(Dense(units=400,input_shape=(784,),activation='sigmoid'))\n",
    "for i in range(350,0,-50):\n",
    "    model.add(Dense(units=i,activation='sigmoid'))\n",
    "model.add(Dense(units=10,activation='softmax'))\n",
    "model.summary()\n",
    "\n",
    "learning_rate=0.003\n",
    "model.compile(loss='categorical_crossentropy',optimizer=mySGD(lr=learning_rate),metrics=['acc'])"
   ]
  },
  {
   "cell_type": "markdown",
   "metadata": {},
   "source": [
    "### 5.新优化器效果,注意到从之前无法训练变为能够下降了,但准确率非常低"
   ]
  },
  {
   "cell_type": "code",
   "execution_count": 69,
   "metadata": {},
   "outputs": [
    {
     "name": "stdout",
     "output_type": "stream",
     "text": [
      "[<tf.Tensor 'training_14/mySGD/gradients/dense_46/MatMul_grad/MatMul_1:0' shape=(784, 400) dtype=float32>, <tf.Tensor 'training_14/mySGD/gradients/dense_46/BiasAdd_grad/BiasAddGrad:0' shape=(400,) dtype=float32>, <tf.Tensor 'training_14/mySGD/gradients/dense_47/MatMul_grad/MatMul_1:0' shape=(400, 350) dtype=float32>, <tf.Tensor 'training_14/mySGD/gradients/dense_47/BiasAdd_grad/BiasAddGrad:0' shape=(350,) dtype=float32>, <tf.Tensor 'training_14/mySGD/gradients/dense_48/MatMul_grad/MatMul_1:0' shape=(350, 300) dtype=float32>, <tf.Tensor 'training_14/mySGD/gradients/dense_48/BiasAdd_grad/BiasAddGrad:0' shape=(300,) dtype=float32>, <tf.Tensor 'training_14/mySGD/gradients/dense_49/MatMul_grad/MatMul_1:0' shape=(300, 250) dtype=float32>, <tf.Tensor 'training_14/mySGD/gradients/dense_49/BiasAdd_grad/BiasAddGrad:0' shape=(250,) dtype=float32>, <tf.Tensor 'training_14/mySGD/gradients/dense_50/MatMul_grad/MatMul_1:0' shape=(250, 200) dtype=float32>, <tf.Tensor 'training_14/mySGD/gradients/dense_50/BiasAdd_grad/BiasAddGrad:0' shape=(200,) dtype=float32>, <tf.Tensor 'training_14/mySGD/gradients/dense_51/MatMul_grad/MatMul_1:0' shape=(200, 150) dtype=float32>, <tf.Tensor 'training_14/mySGD/gradients/dense_51/BiasAdd_grad/BiasAddGrad:0' shape=(150,) dtype=float32>, <tf.Tensor 'training_14/mySGD/gradients/dense_52/MatMul_grad/MatMul_1:0' shape=(150, 100) dtype=float32>, <tf.Tensor 'training_14/mySGD/gradients/dense_52/BiasAdd_grad/BiasAddGrad:0' shape=(100,) dtype=float32>, <tf.Tensor 'training_14/mySGD/gradients/dense_53/MatMul_grad/MatMul_1:0' shape=(100, 50) dtype=float32>, <tf.Tensor 'training_14/mySGD/gradients/dense_53/BiasAdd_grad/BiasAddGrad:0' shape=(50,) dtype=float32>, <tf.Tensor 'training_14/mySGD/gradients/dense_54/MatMul_grad/MatMul_1:0' shape=(50, 10) dtype=float32>, <tf.Tensor 'training_14/mySGD/gradients/dense_54/BiasAdd_grad/BiasAddGrad:0' shape=(10,) dtype=float32>]\n",
      "Train on 50000 samples, validate on 10000 samples\n",
      "Epoch 1/20\n",
      "50000/50000 [==============================] - 2s 43us/step - loss: 2.0660 - acc: 0.1730 - val_loss: 1.9242 - val_acc: 0.1684\n",
      "Epoch 2/20\n",
      "50000/50000 [==============================] - 2s 31us/step - loss: 1.7202 - acc: 0.3083 - val_loss: 1.7925 - val_acc: 0.2410\n",
      "Epoch 3/20\n",
      "50000/50000 [==============================] - 2s 31us/step - loss: 1.5483 - acc: 0.3962 - val_loss: 1.8223 - val_acc: 0.2751\n",
      "Epoch 4/20\n",
      "50000/50000 [==============================] - 2s 31us/step - loss: 1.4236 - acc: 0.4438 - val_loss: 1.7716 - val_acc: 0.3198\n",
      "Epoch 5/20\n",
      "50000/50000 [==============================] - 2s 31us/step - loss: 1.3354 - acc: 0.4842 - val_loss: 1.5768 - val_acc: 0.3892\n",
      "Epoch 6/20\n",
      "50000/50000 [==============================] - 2s 31us/step - loss: 1.2507 - acc: 0.5250 - val_loss: 1.5349 - val_acc: 0.4113\n",
      "Epoch 7/20\n",
      "50000/50000 [==============================] - 2s 32us/step - loss: 1.1756 - acc: 0.5584 - val_loss: 1.5548 - val_acc: 0.4108\n",
      "Epoch 8/20\n",
      "50000/50000 [==============================] - 2s 31us/step - loss: 1.1179 - acc: 0.5822 - val_loss: 1.3894 - val_acc: 0.4901\n",
      "Epoch 9/20\n",
      "50000/50000 [==============================] - 2s 31us/step - loss: 1.0655 - acc: 0.6073 - val_loss: 1.4418 - val_acc: 0.4843\n",
      "Epoch 10/20\n",
      "50000/50000 [==============================] - 2s 31us/step - loss: 1.0200 - acc: 0.6313 - val_loss: 1.3903 - val_acc: 0.5268\n",
      "Epoch 11/20\n",
      "50000/50000 [==============================] - 2s 31us/step - loss: 0.9788 - acc: 0.6536 - val_loss: 1.4778 - val_acc: 0.5106\n",
      "Epoch 12/20\n",
      "50000/50000 [==============================] - 2s 31us/step - loss: 0.9418 - acc: 0.6769 - val_loss: 1.3917 - val_acc: 0.5392\n",
      "Epoch 13/20\n",
      "50000/50000 [==============================] - 2s 31us/step - loss: 0.9042 - acc: 0.6977 - val_loss: 1.6315 - val_acc: 0.4404\n",
      "Epoch 14/20\n",
      "50000/50000 [==============================] - 2s 31us/step - loss: 0.8731 - acc: 0.7119 - val_loss: 1.3651 - val_acc: 0.5499\n",
      "Epoch 15/20\n",
      "50000/50000 [==============================] - 2s 31us/step - loss: 0.8465 - acc: 0.7231 - val_loss: 1.5918 - val_acc: 0.4743\n",
      "Epoch 16/20\n",
      "50000/50000 [==============================] - 2s 31us/step - loss: 0.8166 - acc: 0.7376 - val_loss: 1.5331 - val_acc: 0.4996\n",
      "Epoch 17/20\n",
      "50000/50000 [==============================] - 2s 31us/step - loss: 0.7869 - acc: 0.7533 - val_loss: 1.4522 - val_acc: 0.5541\n",
      "Epoch 18/20\n",
      "50000/50000 [==============================] - 2s 31us/step - loss: 0.7594 - acc: 0.7631 - val_loss: 1.6268 - val_acc: 0.4956\n",
      "Epoch 19/20\n",
      "50000/50000 [==============================] - 2s 31us/step - loss: 0.7396 - acc: 0.7709 - val_loss: 1.5724 - val_acc: 0.5431\n",
      "Epoch 20/20\n",
      "50000/50000 [==============================] - 2s 31us/step - loss: 0.7112 - acc: 0.7832 - val_loss: 1.6354 - val_acc: 0.5395\n"
     ]
    }
   ],
   "source": [
    "batch_size=128\n",
    "epochs=20\n",
    "history=model.fit(X_train,y_train,\n",
    "          batch_size=batch_size,\n",
    "         epochs=epochs,\n",
    "         validation_data=[X_test,y_test])"
   ]
  },
  {
   "cell_type": "code",
   "execution_count": 70,
   "metadata": {},
   "outputs": [],
   "source": [
    "def plot_acc_loss(history):\n",
    "    plt.plot(history.history['acc'],color='blue',label='train_accracy')\n",
    "    plt.plot(history.history['val_acc'],color='red',label='test_accracy')\n",
    "    plt.xlabel('epoch')\n",
    "    plt.ylabel('accuracy')\n",
    "    plt.legend()\n",
    "    plt.show()\n",
    "    plt.figure()\n",
    "    plt.plot(history.history['loss'],color='blue',label='train_loss')\n",
    "    plt.plot(history.history['val_loss'],color='red',label='test_loss')\n",
    "    plt.xlabel('epoch')\n",
    "    plt.ylabel('accuracy')\n",
    "    plt.legend()\n",
    "    plt.show()"
   ]
  },
  {
   "cell_type": "code",
   "execution_count": 71,
   "metadata": {},
   "outputs": [
    {
     "data": {
      "image/png": "[encoded data removed]",
      "text/plain": [
       "<Figure size 432x288 with 1 Axes>"
      ]
     },
     "metadata": {
      "needs_background": "light"
     },
     "output_type": "display_data"
    },
    {
     "data": {
      "image/png": "[encoded data removed]",
      "text/plain": [
       "<Figure size 432x288 with 1 Axes>"
      ]
     },
     "metadata": {
      "needs_background": "light"
     },
     "output_type": "display_data"
    }
   ],
   "source": [
    "plot_acc_loss(history)"
   ]
  },
  {
   "cell_type": "markdown",
   "metadata": {},
   "source": [
    "### 6.新方法已经达到了从不能到能的期望,但准确率太低,为说明其具有正常的收敛性能,接下来主要目的是得到一个较好训练结果"
   ]
  }
 ],
 "metadata": {
  "kernelspec": {
   "display_name": "Python 3",
   "language": "python",
   "name": "python3"
  },
  "language_info": {
   "codemirror_mode": {
    "name": "ipython",
    "version": 3
   },
   "file_extension": ".py",
   "mimetype": "text/x-python",
   "name": "python",
   "nbconvert_exporter": "python",
   "pygments_lexer": "ipython3",
   "version": "3.7.0"
  }
 },
 "nbformat": 4,
 "nbformat_minor": 2
}

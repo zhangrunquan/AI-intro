{
 "cells": [
  {
   "cell_type": "markdown",
   "metadata": {},
   "source": [
    "### 为了实验的方便,尝试各种方法的代码并未全部保留下来,较好的结果也没有记录在这个文件,本文件没有有价值的信息,仅是优化过程的一小部分失败尝试,拿来作为工作量的参考."
   ]
  },
  {
   "cell_type": "code",
   "execution_count": 1,
   "metadata": {},
   "outputs": [
    {
     "name": "stderr",
     "output_type": "stream",
     "text": [
      "Using TensorFlow backend.\n"
     ]
    },
    {
     "name": "stdout",
     "output_type": "stream",
     "text": [
      "X_train shape: (50000, 784) \n",
      "y_train shape: (50000, 10)\n",
      "X_test shape: (10000, 784)\n",
      "y_test shape: (10000, 10)\n"
     ]
    }
   ],
   "source": [
    "import keras\n",
    "import numpy as np\n",
    "import matplotlib.pyplot as plt\n",
    "from keras.layers import Dense,Dropout\n",
    "from keras.models import Model,Sequential\n",
    "from keras.datasets import mnist\n",
    "from keras.utils import to_categorical\n",
    "from keras.optimizers import SGD,Adam\n",
    "from keras import regularizers\n",
    "from keras.initializers import RandomNormal\n",
    "from keras.preprocessing.image import ImageDataGenerator\n",
    "def load_data():\n",
    "    (x_train, y_train), (x_test, y_test) = mnist.load_data()\n",
    "    x_train = (x_train.astype(np.float32) - 127.5)/127.5\n",
    "    \n",
    "    # convert shape of x_train from (60000, 28, 28) to (60000, 784) \n",
    "    # 784 columns per row\n",
    "    x_train = x_train.reshape(-1, 784)\n",
    "    x_train=x_train[:50000]\n",
    "    y_train=y_train[:50000]\n",
    "    x_test=x_test.reshape(-1,784)\n",
    "    y_test=to_categorical(y_test)\n",
    "    y_train=to_categorical(y_train)\n",
    "    return (x_train, y_train, x_test, y_test)\n",
    "\n",
    "(X_train, y_train,X_test, y_test)=load_data()\n",
    "\n",
    "print('X_train shape: {0} '.format(X_train.shape))\n",
    "print('y_train shape: {0}'.format(y_train.shape))\n",
    "print('X_test shape: {0}'.format(X_test.shape))\n",
    "print('y_test shape: {0}'.format(y_test.shape))\n",
    "\n",
    "def plot_acc_loss(history):\n",
    "    plt.plot(history.history['acc'],color='blue',label='train_accracy')\n",
    "    plt.plot(history.history['val_acc'],color='red',label='test_accracy')\n",
    "    plt.xlabel('epoch')\n",
    "    plt.ylabel('accuracy')\n",
    "    plt.legend()\n",
    "    plt.show()\n",
    "    plt.figure()\n",
    "    plt.plot(history.history['loss'],color='blue',label='train_loss')\n",
    "    plt.plot(history.history['val_loss'],color='red',label='test_loss')\n",
    "    plt.xlabel('epoch')\n",
    "    plt.ylabel('accuracy')\n",
    "    plt.legend()\n",
    "    plt.show()"
   ]
  },
  {
   "cell_type": "code",
   "execution_count": 2,
   "metadata": {},
   "outputs": [],
   "source": [
    "import src.mnist_loader\n",
    "from imp import reload\n",
    "reload(src.mnist_loader)\n",
    "training_data,_,_=src.mnist_loader.load_data_wrapper()"
   ]
  },
  {
   "cell_type": "code",
   "execution_count": 3,
   "metadata": {},
   "outputs": [
    {
     "name": "stdout",
     "output_type": "stream",
     "text": [
      "(250000, 784)\n",
      "(250000, 10)\n"
     ]
    }
   ],
   "source": [
    "import numpy as np\n",
    "x_train_ex,y_train_ex=zip(*training_data)\n",
    "x_train_ex=np.asarray(x_train_ex).reshape(250000,784)\n",
    "y_train_ex=np.asarray(y_train_ex).reshape(250000,-1)\n",
    "print(x_train_ex.shape)\n",
    "print(y_train_ex.shape)"
   ]
  },
  {
   "cell_type": "code",
   "execution_count": 4,
   "metadata": {},
   "outputs": [],
   "source": [
    "from keras.optimizers import Optimizer\n",
    "import six\n",
    "import copy\n",
    "from six.moves import zip\n",
    "\n",
    "from keras import backend as K\n",
    "from keras.utils.generic_utils import serialize_keras_object\n",
    "from keras.utils.generic_utils import deserialize_keras_object\n",
    "from keras.legacy import interfaces\n",
    "import numpy as np\n",
    "import tensorflow as tf\n",
    "class mySGD(Optimizer):\n",
    "    \"\"\"Stochastic gradient descent optimizer.\n",
    "    Includes support for momentum,\n",
    "    learning rate decay, and Nesterov momentum.\n",
    "    # Arguments\n",
    "        lr: float >= 0. Learning rate.\n",
    "        momentum: float >= 0. Parameter that accelerates SGD\n",
    "            in the relevant direction and dampens oscillations.\n",
    "        decay: float >= 0. Learning rate decay over each update.\n",
    "        nesterov: boolean. Whether to apply Nesterov momentum.\n",
    "    \"\"\"\n",
    "\n",
    "    def __init__(self, lr=0.01, momentum=0., decay=0.,lmbda=0,\n",
    "                 nesterov=False, **kwargs):\n",
    "        super(mySGD, self).__init__(**kwargs)\n",
    "        with K.name_scope(self.__class__.__name__):\n",
    "            self.iterations = K.variable(0, dtype='int64', name='iterations')\n",
    "            self.lr = K.variable(lr, name='lr')\n",
    "            self.momentum = K.variable(momentum, name='momentum')\n",
    "            self.decay = K.variable(decay, name='decay')\n",
    "#             self.lmbda=K.variable(lmbda,name='lmbda')\n",
    "        self.initial_decay = decay\n",
    "        self.nesterov = nesterov\n",
    "        self.lmbda=lmbda\n",
    "\n",
    "    @interfaces.legacy_get_updates_support\n",
    "    def get_updates(self, loss, params):\n",
    "        grads = self.get_gradients(loss, params)\n",
    "        self.updates = [K.update_add(self.iterations, 1)]\n",
    "\n",
    "        lr = self.lr\n",
    "        if self.initial_decay > 0:\n",
    "            lr = lr * (1. / (1. + self.decay * K.cast(self.iterations,\n",
    "                                                      K.dtype(self.decay))))\n",
    "#         print(grads)\n",
    "        # momentum\n",
    "        shapes = [K.int_shape(p) for p in params]\n",
    "        moments = [K.zeros(shape) for shape in shapes]\n",
    "        self.weights = [self.iterations] + moments\n",
    "        for p, g, m in zip(params, grads, moments):\n",
    "#             print(params[0].shape)\n",
    "#             print(params[0].read_value())\n",
    "#             with sess.as_default():\n",
    "#                 print(params[0].eval())\n",
    "            \n",
    "#             print(tf.norm(params[0],ord='euclidean'))\n",
    "#             v = self.momentum * m - lr * g  # velocity\n",
    "#             v = self.momentum * m - tf.norm(p,ord=1)*lr /tf.norm(g,ord=1)* g  # velocity\n",
    "            v = self.momentum * m - lr /tf.norm(g,ord=1)* g  # velocity\n",
    "            self.updates.append(K.update(m, v))\n",
    "            \n",
    "            if self.nesterov:\n",
    "                new_p = p + self.momentum * v - lr * g\n",
    "            else:\n",
    "                new_p = p*(1-lmbda) + v\n",
    "#                 new_p = p/tf.norm(p,ord=1) + v\n",
    "            # Apply constraints.\n",
    "            if getattr(p, 'constraint', None) is not None:\n",
    "                new_p = p.constraint(new_p)\n",
    "\n",
    "            self.updates.append(K.update(p, new_p))\n",
    "        return self.updates\n",
    "\n",
    "    def get_config(self):\n",
    "        config = {'lr': float(K.get_value(self.lr)),\n",
    "                  'momentum': float(K.get_value(self.momentum)),\n",
    "                  'decay': float(K.get_value(self.decay)),\n",
    "                  'nesterov': self.nesterov}\n",
    "        base_config = super(SGD, self).get_config()\n",
    "        return dict(list(base_config.items()) + list(config.items()))"
   ]
  },
  {
   "cell_type": "code",
   "execution_count": 23,
   "metadata": {},
   "outputs": [
    {
     "name": "stdout",
     "output_type": "stream",
     "text": [
      "_________________________________________________________________\n",
      "Layer (type)                 Output Shape              Param #   \n",
      "=================================================================\n",
      "dense_22 (Dense)             (None, 2000)              1570000   \n",
      "_________________________________________________________________\n",
      "dense_23 (Dense)             (None, 1500)              3001500   \n",
      "_________________________________________________________________\n",
      "dense_24 (Dense)             (None, 1000)              1501000   \n",
      "_________________________________________________________________\n",
      "dense_25 (Dense)             (None, 500)               500500    \n",
      "_________________________________________________________________\n",
      "dense_26 (Dense)             (None, 10)                5010      \n",
      "=================================================================\n",
      "Total params: 6,578,010\n",
      "Trainable params: 6,578,010\n",
      "Non-trainable params: 0\n",
      "_________________________________________________________________\n"
     ]
    }
   ],
   "source": [
    "drop_rate=0.6\n",
    "num_train=len(x_train_ex)\n",
    "model=Sequential()\n",
    "\n",
    "model.add(Dense(units=2000,input_shape=(784,),activation='sigmoid'))\n",
    "# model.add(Dense(units=392,input_shape=(784,),activation='sigmoid',kernel_regularizer=regularizers.l2(lmbda)))\n",
    "# model.add(Dropout(rate=drop_rate))\n",
    "l=[1500,1000,500]\n",
    "# l=[191,95,45,30]\n",
    "for i in l:\n",
    "    model.add(Dense(units=i,activation='sigmoid'))\n",
    "#     model.add(Dense(units=i,activation='sigmoid',kernel_initializer=RandomNormal(1,num_train**(0.5))))\n",
    "#     model.add(Dropout(rate=drop_rate))\n",
    "model.add(Dense(units=10,activation='softmax'))\n",
    "model.summary()\n",
    "\n",
    "learning_rate=0.005\n",
    "\n",
    "lmbda=1/num_train\n",
    "lmbda=0\n",
    "model.compile(loss='categorical_crossentropy',optimizer=mySGD(lr=learning_rate,lmbda=lmbda),metrics=['acc'])\n"
   ]
  },
  {
   "cell_type": "code",
   "execution_count": 54,
   "metadata": {},
   "outputs": [],
   "source": [
    "learning_rate=1\n",
    "lmbda=8/num_train\n",
    "lmbda=8/num_train\n",
    "lmbda=0\n",
    "model.compile(loss='categorical_crossentropy',optimizer=mySGD(lr=learning_rate,lmbda=lmbda),metrics=['acc'])"
   ]
  },
  {
   "cell_type": "code",
   "execution_count": 7,
   "metadata": {},
   "outputs": [],
   "source": [
    "lr=0.001\n",
    "model.compile(loss='categorical_crossentropy',optimizer=Adam(),metrics=['acc'])\n",
    "# model.compile(loss='categorical_crossentropy',optimizer=SGD(lr=0.001),metrics=['acc'])"
   ]
  },
  {
   "cell_type": "code",
   "execution_count": 8,
   "metadata": {},
   "outputs": [],
   "source": [
    "# batch_size=128\n",
    "# epochs=50\n",
    "# history=model.fit(X_train,y_train,\n",
    "#           batch_size=batch_size,\n",
    "#          epochs=epochs,\n",
    "#          validation_data=[X_test,y_test])"
   ]
  },
  {
   "cell_type": "code",
   "execution_count": 53,
   "metadata": {},
   "outputs": [
    {
     "name": "stdout",
     "output_type": "stream",
     "text": [
      "Train on 250000 samples, validate on 10000 samples\n",
      "Epoch 1/15\n",
      "250000/250000 [==============================] - 5s 20us/step - loss: 0.3758 - acc: 0.8839 - val_loss: 0.4937 - val_acc: 0.8848 loss: 0.3763  - ETA: 0s - loss: 0.3769 - acc:\n",
      "Epoch 2/15\n",
      "250000/250000 [==============================] - 5s 19us/step - loss: 0.3734 - acc: 0.8847 - val_loss: 0.4955 - val_acc: 0.8837\n",
      "Epoch 3/15\n",
      "250000/250000 [==============================] - 5s 19us/step - loss: 0.3710 - acc: 0.8854 - val_loss: 0.4979 - val_acc: 0.8837\n",
      "Epoch 4/15\n",
      "250000/250000 [==============================] - 5s 19us/step - loss: 0.3686 - acc: 0.8861 - val_loss: 0.5002 - val_acc: 0.8833\n",
      "Epoch 5/15\n",
      "250000/250000 [==============================] - 5s 19us/step - loss: 0.3662 - acc: 0.8868 - val_loss: 0.5019 - val_acc: 0.8823\n",
      "Epoch 6/15\n",
      "250000/250000 [==============================] - 5s 20us/step - loss: 0.3638 - acc: 0.8877 - val_loss: 0.5024 - val_acc: 0.8824\n",
      "Epoch 7/15\n",
      "250000/250000 [==============================] - 5s 19us/step - loss: 0.3614 - acc: 0.8883 - val_loss: 0.4968 - val_acc: 0.8836\n",
      "Epoch 8/15\n",
      "250000/250000 [==============================] - 5s 19us/step - loss: 0.3591 - acc: 0.8890 - val_loss: 0.4969 - val_acc: 0.8839\n",
      "Epoch 9/15\n",
      "250000/250000 [==============================] - 5s 19us/step - loss: 0.3567 - acc: 0.8896 - val_loss: 0.5011 - val_acc: 0.8827\n",
      "Epoch 10/15\n",
      "250000/250000 [==============================] - 5s 19us/step - loss: 0.3544 - acc: 0.8905 - val_loss: 0.5077 - val_acc: 0.8816\n",
      "Epoch 11/15\n",
      "250000/250000 [==============================] - 5s 19us/step - loss: 0.3520 - acc: 0.8912 - val_loss: 0.5005 - val_acc: 0.8843\n",
      "Epoch 12/15\n",
      "250000/250000 [==============================] - 5s 19us/step - loss: 0.3496 - acc: 0.8920 - val_loss: 0.5200 - val_acc: 0.8755\n",
      "Epoch 13/15\n",
      "250000/250000 [==============================] - 5s 20us/step - loss: 0.3474 - acc: 0.8927 - val_loss: 0.5018 - val_acc: 0.8841\n",
      "Epoch 14/15\n",
      "250000/250000 [==============================] - 5s 19us/step - loss: 0.3451 - acc: 0.8936 - val_loss: 0.5031 - val_acc: 0.8842\n",
      "Epoch 15/15\n",
      "250000/250000 [==============================] - 5s 20us/step - loss: 0.3428 - acc: 0.8944 - val_loss: 0.5043 - val_acc: 0.8840\n"
     ]
    }
   ],
   "source": [
    "batch_size=512\n",
    "epochs=15\n",
    "history=model.fit(x_train_ex,y_train_ex,\n",
    "          batch_size=batch_size,\n",
    "         epochs=epochs,\n",
    "         validation_data=[X_test,y_test]\n",
    "                 ,shuffle=False)"
   ]
  },
  {
   "cell_type": "markdown",
   "metadata": {},
   "source": [
    "## 尝试更强的数据增强"
   ]
  },
  {
   "cell_type": "code",
   "execution_count": 53,
   "metadata": {},
   "outputs": [],
   "source": [
    "def data_generator(data, targets, batch_size):\n",
    "    batches = len(data)//batch_size\n",
    "    while(True):\n",
    "        for i in range(batches):\n",
    "            X = data[i*batch_size : (i+1)*batch_size]\n",
    "            Y = targets[i*batch_size : (i+1)*batch_size]\n",
    "            yield (X, Y)"
   ]
  },
  {
   "cell_type": "code",
   "execution_count": 137,
   "metadata": {},
   "outputs": [
    {
     "name": "stdout",
     "output_type": "stream",
     "text": [
      "_________________________________________________________________\n",
      "Layer (type)                 Output Shape              Param #   \n",
      "=================================================================\n",
      "dense_164 (Dense)            (None, 784)               615440    \n",
      "_________________________________________________________________\n",
      "dense_165 (Dense)            (None, 392)               307720    \n",
      "_________________________________________________________________\n",
      "dense_166 (Dense)            (None, 186)               73098     \n",
      "_________________________________________________________________\n",
      "dense_167 (Dense)            (None, 93)                17391     \n",
      "_________________________________________________________________\n",
      "dense_168 (Dense)            (None, 47)                4418      \n",
      "_________________________________________________________________\n",
      "dense_169 (Dense)            (None, 25)                1200      \n",
      "_________________________________________________________________\n",
      "dense_170 (Dense)            (None, 10)                260       \n",
      "=================================================================\n",
      "Total params: 1,019,527\n",
      "Trainable params: 1,019,527\n",
      "Non-trainable params: 0\n",
      "_________________________________________________________________\n"
     ]
    }
   ],
   "source": [
    "model=Sequential()\n",
    "lmbda=0.00003\n",
    "# model.add(Dense(units=2500,input_shape=(784,),activation='sigmoid'))\n",
    "# model.add(Dense(units=784,input_shape=(784,),activation='sigmoid'))\n",
    "model.add(Dense(units=784,input_shape=(784,),activation='sigmoid',kernel_regularizer=regularizers.l2(lmbda)))\n",
    "# model.add(Dropout(rate=0.2))\n",
    "# l=[2000,1500,1000,500]\n",
    "# l=[1500,1000,500]\n",
    "l=[392,186,93,47,25]\n",
    "for i in l:\n",
    "#     model.add(Dense(units=i,activation='sigmoid'))\n",
    "    model.add(Dense(units=i,activation='sigmoid',kernel_regularizer=regularizers.l2(lmbda)))\n",
    "#     model.add(Dropout(rate=0.2))\n",
    "model.add(Dense(units=10,activation='softmax'))\n",
    "model.summary()\n",
    "\n",
    "learning_rate=0.0005\n",
    "model.compile(loss='categorical_crossentropy',optimizer=mySGD(lr=learning_rate),metrics=['acc'])"
   ]
  },
  {
   "cell_type": "code",
   "execution_count": 56,
   "metadata": {},
   "outputs": [
    {
     "name": "stdout",
     "output_type": "stream",
     "text": [
      "(50000, 1, 28, 28)\n",
      "(10000, 784)\n",
      "(50000, 10)\n",
      "(10000, 10)\n"
     ]
    }
   ],
   "source": [
    "data_gen=ImageDataGenerator(data_format='channels_first',\n",
    "#                            zca_whitening=True,\n",
    "#                            rotation_range=7.5,\n",
    "#                            width_shift_range=.05,\n",
    "#                            height_shift_range=.05,\n",
    "                           )\n",
    "# data_gen.fit(x_train)\n",
    "X_train=X_train.reshape(50000,1,28,28)\n",
    "X_test=X_test.reshape(-1,784)\n",
    "y_train=y_train.reshape(-1,10)\n",
    "y_test=y_test.reshape(-1,10)\n",
    "print(X_train.shape)\n",
    "print(X_test.shape)\n",
    "print(y_train.shape)\n",
    "print(y_test.shape)\n",
    "data_gen.fit(X_train)"
   ]
  },
  {
   "cell_type": "code",
   "execution_count": 58,
   "metadata": {},
   "outputs": [],
   "source": [
    "def dg_wrapper(data_gen,X_train,y_train,batch_size):\n",
    "    while(True):\n",
    "        dg=data_gen.flow(X_train,y_train,batch_size=batch_size)\n",
    "        for i in range(len(X_train)// batch_size):\n",
    "            d=next(dg)\n",
    "            x,y=d[0],d[1]\n",
    "            x=x.reshape(batch_size,784)\n",
    "            y=y.reshape(batch_size,-1)\n",
    "            yield (x,y)"
   ]
  },
  {
   "cell_type": "code",
   "execution_count": 132,
   "metadata": {},
   "outputs": [],
   "source": [
    "learning_rate=0.0003\n",
    "model.compile(loss='categorical_crossentropy',optimizer=mySGD(lr=learning_rate),metrics=['acc'])"
   ]
  },
  {
   "cell_type": "code",
   "execution_count": 139,
   "metadata": {},
   "outputs": [
    {
     "name": "stdout",
     "output_type": "stream",
     "text": [
      "Epoch 1/50\n",
      "5000/5000 [==============================] - 19s 4ms/step - loss: 1.1915 - acc: 0.6072 - val_loss: 1.2996 - val_acc: 0.5357\n",
      "Epoch 2/50\n",
      "5000/5000 [==============================] - 19s 4ms/step - loss: 1.1538 - acc: 0.6210 - val_loss: 1.2836 - val_acc: 0.5517\n",
      "Epoch 3/50\n",
      "5000/5000 [==============================] - 19s 4ms/step - loss: 1.1308 - acc: 0.6282 - val_loss: 1.2538 - val_acc: 0.5662\n",
      "Epoch 4/50\n",
      "5000/5000 [==============================] - 19s 4ms/step - loss: 1.1148 - acc: 0.6335 - val_loss: 1.2848 - val_acc: 0.5588\n",
      "Epoch 5/50\n",
      "5000/5000 [==============================] - 19s 4ms/step - loss: 1.1042 - acc: 0.6349 - val_loss: 1.2928 - val_acc: 0.5604\n",
      "Epoch 6/50\n",
      "5000/5000 [==============================] - 19s 4ms/step - loss: 1.0971 - acc: 0.6370 - val_loss: 1.3324 - val_acc: 0.5639\n",
      "Epoch 7/50\n",
      "5000/5000 [==============================] - 19s 4ms/step - loss: 1.0944 - acc: 0.6384 - val_loss: 1.3618 - val_acc: 0.5639\n",
      "Epoch 8/50\n",
      "5000/5000 [==============================] - 19s 4ms/step - loss: 1.0947 - acc: 0.6389 - val_loss: 1.4166 - val_acc: 0.5541\n",
      "Epoch 9/50\n",
      "5000/5000 [==============================] - 19s 4ms/step - loss: 1.0961 - acc: 0.6374 - val_loss: 1.4648 - val_acc: 0.5502\n",
      "Epoch 10/50\n",
      "5000/5000 [==============================] - 19s 4ms/step - loss: 1.1000 - acc: 0.6344 - val_loss: 1.5017 - val_acc: 0.5517\n",
      "Epoch 11/50\n",
      "5000/5000 [==============================] - 19s 4ms/step - loss: 1.1037 - acc: 0.6340 - val_loss: 1.5421 - val_acc: 0.5427\n",
      "Epoch 12/50\n",
      "5000/5000 [==============================] - 19s 4ms/step - loss: 1.1077 - acc: 0.6316 - val_loss: 1.5681 - val_acc: 0.5427\n",
      "Epoch 13/50\n",
      "5000/5000 [==============================] - 19s 4ms/step - loss: 1.1129 - acc: 0.6299 - val_loss: 1.5907 - val_acc: 0.5461\n",
      "Epoch 14/50\n",
      "5000/5000 [==============================] - 19s 4ms/step - loss: 1.1179 - acc: 0.6280 - val_loss: 1.6373 - val_acc: 0.5444\n",
      "Epoch 15/50\n",
      "5000/5000 [==============================] - 19s 4ms/step - loss: 1.1190 - acc: 0.6277 - val_loss: 1.6751 - val_acc: 0.5435\n",
      "Epoch 16/50\n",
      "5000/5000 [==============================] - 19s 4ms/step - loss: 1.1230 - acc: 0.6263 - val_loss: 1.6975 - val_acc: 0.5481\n",
      "Epoch 17/50\n",
      "5000/5000 [==============================] - 19s 4ms/step - loss: 1.1271 - acc: 0.6244 - val_loss: 1.7292 - val_acc: 0.5427\n",
      "Epoch 18/50\n",
      "5000/5000 [==============================] - 19s 4ms/step - loss: 1.1318 - acc: 0.6241 - val_loss: 1.7507 - val_acc: 0.5397\n",
      "Epoch 19/50\n",
      "5000/5000 [==============================] - 19s 4ms/step - loss: 1.1345 - acc: 0.6217 - val_loss: 1.7684 - val_acc: 0.5387\n",
      "Epoch 20/50\n",
      "5000/5000 [==============================] - 19s 4ms/step - loss: 1.1354 - acc: 0.6212 - val_loss: 1.7627 - val_acc: 0.5420\n",
      "Epoch 21/50\n",
      "5000/5000 [==============================] - 19s 4ms/step - loss: 1.1374 - acc: 0.6196 - val_loss: 1.8066 - val_acc: 0.5389\n",
      "Epoch 22/50\n",
      "5000/5000 [==============================] - 19s 4ms/step - loss: 1.1403 - acc: 0.6198 - val_loss: 1.7897 - val_acc: 0.5422\n",
      "Epoch 23/50\n",
      "5000/5000 [==============================] - 20s 4ms/step - loss: 1.1407 - acc: 0.6184 - val_loss: 1.7998 - val_acc: 0.5393\n",
      "Epoch 24/50\n",
      "5000/5000 [==============================] - 21s 4ms/step - loss: 1.1420 - acc: 0.6150 - val_loss: 1.8073 - val_acc: 0.5394\n",
      "Epoch 25/50\n",
      "5000/5000 [==============================] - 19s 4ms/step - loss: 1.1423 - acc: 0.6165 - val_loss: 1.8041 - val_acc: 0.5407\n",
      "Epoch 26/50\n",
      "5000/5000 [==============================] - 19s 4ms/step - loss: 1.1430 - acc: 0.6153 - val_loss: 1.8176 - val_acc: 0.5368\n",
      "Epoch 27/50\n",
      "5000/5000 [==============================] - 19s 4ms/step - loss: 1.1452 - acc: 0.6142 - val_loss: 1.8098 - val_acc: 0.5375\n",
      "Epoch 28/50\n",
      "5000/5000 [==============================] - 19s 4ms/step - loss: 1.1438 - acc: 0.6154 - val_loss: 1.8073 - val_acc: 0.5387\n",
      "Epoch 29/50\n",
      "5000/5000 [==============================] - 19s 4ms/step - loss: 1.1440 - acc: 0.6153 - val_loss: 1.8226 - val_acc: 0.5393\n",
      "Epoch 30/50\n",
      "5000/5000 [==============================] - 19s 4ms/step - loss: 1.1461 - acc: 0.6156 - val_loss: 1.8198 - val_acc: 0.5387\n",
      "Epoch 31/50\n",
      "5000/5000 [==============================] - 19s 4ms/step - loss: 1.1446 - acc: 0.6159 - val_loss: 1.8286 - val_acc: 0.5384\n",
      "Epoch 32/50\n",
      "5000/5000 [==============================] - 19s 4ms/step - loss: 1.1465 - acc: 0.6141 - val_loss: 1.8304 - val_acc: 0.5396\n",
      "Epoch 33/50\n",
      "5000/5000 [==============================] - 19s 4ms/step - loss: 1.1464 - acc: 0.6127 - val_loss: 1.8370 - val_acc: 0.5344\n",
      "Epoch 34/50\n",
      "5000/5000 [==============================] - 19s 4ms/step - loss: 1.1458 - acc: 0.6125 - val_loss: 1.8004 - val_acc: 0.5404\n",
      "Epoch 35/50\n",
      "5000/5000 [==============================] - 19s 4ms/step - loss: 1.1453 - acc: 0.6134 - val_loss: 1.8114 - val_acc: 0.5421\n",
      "Epoch 36/50\n",
      "5000/5000 [==============================] - 19s 4ms/step - loss: 1.1457 - acc: 0.6123 - val_loss: 1.8138 - val_acc: 0.5381\n",
      "Epoch 37/50\n",
      "5000/5000 [==============================] - 19s 4ms/step - loss: 1.1453 - acc: 0.6138 - val_loss: 1.8430 - val_acc: 0.5338\n",
      "Epoch 38/50\n",
      "5000/5000 [==============================] - 19s 4ms/step - loss: 1.1451 - acc: 0.6128 - val_loss: 1.8061 - val_acc: 0.5403\n",
      "Epoch 39/50\n",
      "5000/5000 [==============================] - 19s 4ms/step - loss: 1.1439 - acc: 0.6145 - val_loss: 1.8048 - val_acc: 0.5411\n",
      "Epoch 40/50\n",
      "5000/5000 [==============================] - 19s 4ms/step - loss: 1.1441 - acc: 0.6138 - val_loss: 1.8014 - val_acc: 0.5424\n",
      "Epoch 41/50\n",
      "5000/5000 [==============================] - 19s 4ms/step - loss: 1.1468 - acc: 0.6154 - val_loss: 1.8242 - val_acc: 0.5395\n",
      "Epoch 42/50\n",
      "5000/5000 [==============================] - 19s 4ms/step - loss: 1.1474 - acc: 0.6130 - val_loss: 1.7959 - val_acc: 0.5387\n",
      "Epoch 43/50\n",
      "5000/5000 [==============================] - 19s 4ms/step - loss: 1.1485 - acc: 0.6133 - val_loss: 1.8069 - val_acc: 0.5443\n",
      "Epoch 44/50\n",
      "5000/5000 [==============================] - 19s 4ms/step - loss: 1.1459 - acc: 0.6121 - val_loss: 1.8067 - val_acc: 0.5384\n",
      "Epoch 45/50\n",
      "5000/5000 [==============================] - 19s 4ms/step - loss: 1.1463 - acc: 0.6149 - val_loss: 1.8058 - val_acc: 0.5409\n",
      "Epoch 46/50\n",
      "5000/5000 [==============================] - 19s 4ms/step - loss: 1.1465 - acc: 0.6151 - val_loss: 1.8282 - val_acc: 0.5364\n",
      "Epoch 47/50\n",
      "5000/5000 [==============================] - 19s 4ms/step - loss: 1.1478 - acc: 0.6129 - val_loss: 1.7974 - val_acc: 0.5391\n",
      "Epoch 48/50\n",
      "5000/5000 [==============================] - 19s 4ms/step - loss: 1.1492 - acc: 0.6122 - val_loss: 1.8154 - val_acc: 0.5351\n",
      "Epoch 49/50\n",
      "5000/5000 [==============================] - 19s 4ms/step - loss: 1.1486 - acc: 0.6140 - val_loss: 1.8067 - val_acc: 0.5403\n",
      "Epoch 50/50\n",
      "5000/5000 [==============================] - 19s 4ms/step - loss: 1.1509 - acc: 0.6124 - val_loss: 1.8343 - val_acc: 0.5361\n"
     ]
    }
   ],
   "source": [
    "batch_size=10\n",
    "epochs=50\n",
    "# steps_per_epoch=3\n",
    "# data_gen.flow(X_train,y_train,batch_size=batch_size)\n",
    "history=model.fit_generator(dg_wrapper(data_gen,X_train,y_train,batch_size),\n",
    "        epochs=epochs,\n",
    "        steps_per_epoch=(len(X_train)// batch_size),\n",
    "        validation_data=data_generator(X_test,y_test,batch_size),\n",
    "        validation_steps=len(X_test)//batch_size\n",
    "    )"
   ]
  },
  {
   "cell_type": "code",
   "execution_count": 161,
   "metadata": {},
   "outputs": [
    {
     "data": {
      "image/png": "[encoded data removed]",
      "text/plain": [
       "<Figure size 432x288 with 1 Axes>"
      ]
     },
     "metadata": {
      "needs_background": "light"
     },
     "output_type": "display_data"
    },
    {
     "data": {
      "image/png": "[encoded data removed]",
      "text/plain": [
       "<Figure size 432x288 with 1 Axes>"
      ]
     },
     "metadata": {
      "needs_background": "light"
     },
     "output_type": "display_data"
    }
   ],
   "source": [
    "plot_acc_loss(history)"
   ]
  }
 ],
 "metadata": {
  "kernelspec": {
   "display_name": "Python 3",
   "language": "python",
   "name": "python3"
  },
  "language_info": {
   "codemirror_mode": {
    "name": "ipython",
    "version": 3
   },
   "file_extension": ".py",
   "mimetype": "text/x-python",
   "name": "python",
   "nbconvert_exporter": "python",
   "pygments_lexer": "ipython3",
   "version": "3.7.0"
  }
 },
 "nbformat": 4,
 "nbformat_minor": 2
}
